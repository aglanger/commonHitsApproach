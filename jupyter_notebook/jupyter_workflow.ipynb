{
 "cells": [
  {
   "cell_type": "code",
   "execution_count": 1,
   "metadata": {},
   "outputs": [
    {
     "name": "stdout",
     "output_type": "stream",
     "text": [
      "/home/mwieder/Work/common_hits_approach\n"
     ]
    }
   ],
   "source": [
    "cd .."
   ]
  },
  {
   "cell_type": "code",
   "execution_count": null,
   "metadata": {
    "collapsed": true
   },
   "outputs": [],
   "source": []
  },
  {
   "cell_type": "code",
   "execution_count": 2,
   "metadata": {},
   "outputs": [],
   "source": [
    "# Import the package\n",
    "import cha\n",
    "import glob, os"
   ]
  },
  {
   "cell_type": "code",
   "execution_count": null,
   "metadata": {
    "collapsed": true
   },
   "outputs": [],
   "source": [
    "### Make a map of lists -> if you have a single MD run: map['md1'] => ['pdb1', 'pdb2', ...], \n",
    "### if you have multiple MD runs: map['md1'] => ['pdb1', 'pdb2', ...],\n",
    "                                 ['md2'] => ['pdb1', 'pdb2', ...]"
   ]
  },
  {
   "cell_type": "code",
   "execution_count": 11,
   "metadata": {},
   "outputs": [],
   "source": [
    "map_of_pdbs = {}\n",
    "map_of_pdbs['mr1'] = ['/data/shared/projects/Dynamics/Analysis/1J4H_446410/RUN01/01pdb_files/MR_1/lp_96.pdb', '/data/shared/projects/Dynamics/Analysis/1J4H_446410/RUN01/01pdb_files/MR_1/lp_7.pdb']"
   ]
  },
  {
   "cell_type": "code",
   "execution_count": null,
   "metadata": {
    "collapsed": true
   },
   "outputs": [],
   "source": [
    "### generate the representative pharmacophore model facrotry -> as input the three letter code of the ligand (as ### written in the pdb file) is needed and the generated map_of_pdbs"
   ]
  },
  {
   "cell_type": "code",
   "execution_count": 12,
   "metadata": {},
   "outputs": [],
   "source": [
    "rpms = cha.generate_rpms.generate_rpms_factory(map_of_pdbs, 'SUB')"
   ]
  },
  {
   "cell_type": "code",
   "execution_count": null,
   "metadata": {
    "collapsed": true
   },
   "outputs": [],
   "source": [
    "### read in pdbs and generate pharmacophore models and rpms (representative pharmacophore models)"
   ]
  },
  {
   "cell_type": "code",
   "execution_count": 13,
   "metadata": {},
   "outputs": [
    {
     "name": "stdout",
     "output_type": "stream",
     "text": [
      "- Reading input:  /data/shared/projects/Dynamics/Analysis/1J4H_446410/RUN01/01pdb_files/MR_1/lp_96.pdb  ...\n",
      "- Processing macromolecule /data/shared/projects/Dynamics/Analysis/1J4H_446410/RUN01/01pdb_files/MR_1/lp_96.pdb  ...\n",
      "- Extracting ligand  SUB  ...\n",
      "- Constructing pharmacophore ...\n",
      "**********************************\n",
      "- Reading input:  /data/shared/projects/Dynamics/Analysis/1J4H_446410/RUN01/01pdb_files/MR_1/lp_7.pdb  ...\n",
      "- Processing macromolecule /data/shared/projects/Dynamics/Analysis/1J4H_446410/RUN01/01pdb_files/MR_1/lp_7.pdb  ...\n",
      "- Extracting ligand  SUB  ...\n",
      "- Constructing pharmacophore ...\n",
      "**********************************\n",
      "Unique feature vector: set(['H[SUB_201_H_1704_1701_1700_1699_1696_1666]', 'H[SUB_201_H_1694_1692_1690_1688_1686_1682]', 'H[SUB_201_H_1722_1720_1719_1713_1711_1710]', 'HBA[SUB_201_H_1664]', 'HBA[SUB_201_H_1673]'])\n"
     ]
    }
   ],
   "source": [
    "ph_map = rpms.read_pdb_and_generate_ph()"
   ]
  },
  {
   "cell_type": "code",
   "execution_count": 14,
   "metadata": {},
   "outputs": [
    {
     "name": "stdout",
     "output_type": "stream",
     "text": [
      "11111\n",
      "01111\n"
     ]
    },
    {
     "data": {
      "text/plain": [
       "defaultdict(list, {'01111': ['mr1_2'], '11111': ['mr1_1']})"
      ]
     },
     "execution_count": 14,
     "metadata": {},
     "output_type": "execute_result"
    }
   ],
   "source": [
    "rpms.generate_rpms(ph_map)"
   ]
  },
  {
   "cell_type": "code",
   "execution_count": null,
   "metadata": {
    "collapsed": true
   },
   "outputs": [],
   "source": []
  }
 ],
 "metadata": {
  "kernelspec": {
   "display_name": "Python [conda env:python2.7]",
   "language": "python",
   "name": "conda-env-python2.7-py"
  },
  "language_info": {
   "codemirror_mode": {
    "name": "ipython",
    "version": 2
   },
   "file_extension": ".py",
   "mimetype": "text/x-python",
   "name": "python",
   "nbconvert_exporter": "python",
   "pygments_lexer": "ipython2",
   "version": "2.7.13"
  }
 },
 "nbformat": 4,
 "nbformat_minor": 2
}
